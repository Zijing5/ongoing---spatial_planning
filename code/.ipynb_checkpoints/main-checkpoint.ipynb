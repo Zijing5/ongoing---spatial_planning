{
 "cells": [
  {
   "cell_type": "code",
   "execution_count": 660,
   "metadata": {
    "collapsed": true
   },
   "outputs": [],
   "source": [
    "import numpy as np\n",
    "import pandas as pd\n",
    "import datetime"
   ]
  },
  {
   "cell_type": "code",
   "execution_count": 661,
   "metadata": {
    "collapsed": true
   },
   "outputs": [],
   "source": [
    "room = pd.read_excel('spacep.xlsx')\n",
    "appoint = pd.read_excel('appoint.xlsx')"
   ]
  },
  {
   "cell_type": "code",
   "execution_count": 662,
   "metadata": {
    "collapsed": true
   },
   "outputs": [],
   "source": [
    "room['flag'] = 0 # 用于标志房间此时是否被占用"
   ]
  },
  {
   "cell_type": "code",
   "execution_count": 663,
   "metadata": {
    "collapsed": true
   },
   "outputs": [],
   "source": [
    "# room"
   ]
  },
  {
   "cell_type": "code",
   "execution_count": 664,
   "metadata": {
    "collapsed": true
   },
   "outputs": [],
   "source": [
    "# appoint"
   ]
  },
  {
   "cell_type": "markdown",
   "metadata": {},
   "source": [
    "## 按照时间索引预约"
   ]
  },
  {
   "cell_type": "markdown",
   "metadata": {},
   "source": [
    "### 时间筛选"
   ]
  },
  {
   "cell_type": "code",
   "execution_count": 665,
   "metadata": {
    "collapsed": true
   },
   "outputs": [],
   "source": [
    "#用appoint_chosen来存储"
   ]
  },
  {
   "cell_type": "code",
   "execution_count": 666,
   "metadata": {},
   "outputs": [
    {
     "data": {
      "text/plain": [
       "datetime.time(8, 0)"
      ]
     },
     "execution_count": 666,
     "metadata": {},
     "output_type": "execute_result"
    }
   ],
   "source": [
    "# 设置遍历的开始和结束时间\n",
    "start_time = pd.to_datetime('08:00').time()\n",
    "end_time = pd.to_datetime('22:00').time()\n",
    "start_time"
   ]
  },
  {
   "cell_type": "code",
   "execution_count": 667,
   "metadata": {
    "collapsed": true
   },
   "outputs": [],
   "source": [
    "# 设置遍历间隔\n",
    "interval = datetime.timedelta(hours=1) #创建一个时间偏移量对象"
   ]
  },
  {
   "cell_type": "code",
   "execution_count": 668,
   "metadata": {
    "collapsed": true
   },
   "outputs": [],
   "source": [
    "# 遍历时间范围\n",
    "appoint_chosen = []\n",
    "current_time = start_time\n",
    "while current_time <= end_time:\n",
    "    current_time_str = current_time.strftime('%H:%M')\n",
    "    appoint_chosen.append(appoint['time'].apply(lambda x: x.startswith(current_time_str[:2])))  \n",
    "    current_time = (datetime.datetime.combine(datetime.date.today(), current_time) + interval).time()\n",
    "# datetime.date.today(),datetime.datetime.combine(),pd.to_datetime(),.time(),datetime.timedelta(),strftime('')"
   ]
  },
  {
   "cell_type": "markdown",
   "metadata": {},
   "source": [
    "### 房间匹配函数"
   ]
  },
  {
   "cell_type": "code",
   "execution_count": 669,
   "metadata": {
    "collapsed": true
   },
   "outputs": [],
   "source": [
    "def room_match(now_appoint,room4c,dic4c):\n",
    "    \"\"\"\n",
    "    now_appoint,room4c=room,dic4c=dic4c\n",
    "    \"\"\"\n",
    "    # 隔音 设备 空间 家具 事件 房间占用情况 匹配  \n",
    "    dict_now = {}\n",
    "    for j in range(len(now_appoint)): # 每条记录筛选\n",
    "#     for j in range(1): # 每条记录筛选\n",
    "        _ = now_appoint.iloc[j,:] # 该时间点符合要求的行,1x\n",
    "#         print(_.预约编号)\n",
    "#         print(len(room)*[type(_['events'])!=str],len(room),type(type(_['events'])!=str))\n",
    "#         print(_['events'],_['events']==np.none)\n",
    "#         print(room[_['events']].sum(),'!!!!')\n",
    "#         print(room[_['events']] == 1)\n",
    "#         print(_['facility'],room['facility'])\n",
    "\n",
    "#         print((room['soundi']>=_['soundi'])[10]) # 测试\n",
    "        index = room[(room['soundi']>=_['soundi']) & \\\n",
    "        # 大于噪声要求的都可以\n",
    "        \n",
    "#         print(((room['facility']==_['facility'])|len(room)*[_['facility']==0])[35]) # 测试\n",
    "        ((room['facility']==_['facility'])|len(room)*[_['facility']==0]) &\\\n",
    "        #满足设备要求或者对设备无要求\n",
    "                     \n",
    "        ((room['refur']>=_['refur'])|(len(room)*[_['refur']==0])) &\\\n",
    "        #指定家具可重新排布必须是可重排\n",
    "                     \n",
    "        ((room['sproperty']<=_['sproperty'])|len(room)*[_['sproperty']==1]|len(room)*[_['sproperty']==2]) &\\\n",
    "        #空间开放情况,闭合0只能选择闭合0(也不能选择特殊空间)，其余可选择任意房间\n",
    "        (room['flag']==0)].index\n",
    "#         print(type(_['events'])!=str)\n",
    "#         print(_['events'])\n",
    "#         print(room[_['events']] == 1)\n",
    "#         print(room.index if type(_['events'])!=str else (room[_['events']] == 1).index)\n",
    "        index1 = room.index if type(_['events'])!=str else (room[_['events']] == 1).index\n",
    "        # 事件匹配，nan则均可\n",
    "        # 只能选择目前未被占用的房间\n",
    "        dic4c[_['预约编号']] = np.array(np.intersect1d(np.array(index),np.array(index1)))\n",
    "        dict_now[_['预约编号']] = np.array(np.intersect1d(np.array(index),np.array(index1)))\n",
    "##     print('该点预约备选方案')\n",
    "##     print(dict_now)\n",
    "    return dic4c,dict_now\n",
    "\n",
    "    # 输入需求和房间情况，输出需求可选房间及其优先级排序。\n",
    "    "
   ]
  },
  {
   "cell_type": "markdown",
   "metadata": {},
   "source": [
    "#### room可用时间初始化函数"
   ]
  },
  {
   "cell_type": "code",
   "execution_count": 670,
   "metadata": {
    "collapsed": true
   },
   "outputs": [],
   "source": [
    "# room可用时间初始化函数\n",
    "# 检查start_time\n",
    "def room_init(room = room, start_time = start_time):\n",
    "    room['flag'] = room['time'].apply(lambda x: 0 if (pd.to_datetime(x[:5]).time()<= start_time) & \\\n",
    "                                          (pd.to_datetime(x[-5:]).time()>= start_time)\\\n",
    "                                      else 1)\n",
    "room_init()"
   ]
  },
  {
   "cell_type": "code",
   "execution_count": 671,
   "metadata": {
    "collapsed": true
   },
   "outputs": [],
   "source": [
    "# room # 全零表示从遍历时间开始 所有房间均可使用"
   ]
  },
  {
   "cell_type": "markdown",
   "metadata": {},
   "source": [
    "#### 随循环room占位标志更新函数"
   ]
  },
  {
   "cell_type": "code",
   "execution_count": 672,
   "metadata": {
    "collapsed": true
   },
   "outputs": [],
   "source": [
    "# 随循环room占位标志函数，在每扫描一个时间点并做好该点预约安排后进行更新\n",
    "# 更新room在下一个时间点的占位情况，用于下一个时间点的房间安排\n",
    "# 一般用于occupied更新函数之后\n",
    "def roomflag_update(room,occupied):\n",
    "    \"\"\"room,occupied\"\"\"\n",
    "    pass"
   ]
  },
  {
   "cell_type": "markdown",
   "metadata": {},
   "source": [
    "#### occupied初始化函数"
   ]
  },
  {
   "cell_type": "code",
   "execution_count": 673,
   "metadata": {
    "collapsed": true
   },
   "outputs": [],
   "source": [
    "#occupied初始化函数\n",
    "def occupied_init(occupied):\n",
    "    \"\"\"occupied=occupied\"\"\"\n",
    "    # 根据可用时间置一\n",
    "    for i in range(len(occupied.columns)):\n",
    "        startindex = int(room['time'][i][:2])\n",
    "        endindex = int(room['time'][i][-5:-3])\n",
    "#         print(startindex,endindex+1)\n",
    "        occupied.iloc[startindex:endindex+1,i] = 0 # 表示处于可用状态\n",
    "    return occupied"
   ]
  },
  {
   "cell_type": "markdown",
   "metadata": {},
   "source": [
    "#### occupied初始化操作"
   ]
  },
  {
   "cell_type": "code",
   "execution_count": 674,
   "metadata": {},
   "outputs": [
    {
     "data": {
      "text/plain": [
       "Index(['00:00', '01:00', '02:00', '03:00', '04:00', '05:00', '06:00', '07:00',\n",
       "       '08:00', '09:00', '10:00', '11:00', '12:00', '13:00', '14:00', '15:00',\n",
       "       '16:00', '17:00', '18:00', '19:00', '20:00', '21:00', '22:00', '23:00'],\n",
       "      dtype='object')"
      ]
     },
     "execution_count": 674,
     "metadata": {},
     "output_type": "execute_result"
    }
   ],
   "source": [
    "# 时间序列 用作occupied的索引\n",
    "hours_range = pd.date_range(start='00:00', end='23:00', freq='H').strftime(\"%H:%M\")\n",
    "hours_range"
   ]
  },
  {
   "cell_type": "code",
   "execution_count": 675,
   "metadata": {
    "collapsed": true
   },
   "outputs": [],
   "source": [
    "occupied = pd.DataFrame(np.ones((24,len(room))),index=hours_range) # 24小时✖单位房间数量\n",
    "# occupied #0表示未占用,1表示占用\n",
    "occupied = occupied_init(occupied)\n",
    "# occupied"
   ]
  },
  {
   "cell_type": "code",
   "execution_count": 676,
   "metadata": {},
   "outputs": [
    {
     "data": {
      "text/plain": [
       "00:00    1.0\n",
       "01:00    1.0\n",
       "02:00    1.0\n",
       "03:00    1.0\n",
       "04:00    1.0\n",
       "05:00    1.0\n",
       "06:00    1.0\n",
       "07:00    0.0\n",
       "08:00    0.0\n",
       "09:00    0.0\n",
       "10:00    0.0\n",
       "11:00    0.0\n",
       "12:00    0.0\n",
       "13:00    0.0\n",
       "14:00    0.0\n",
       "15:00    0.0\n",
       "16:00    0.0\n",
       "17:00    0.0\n",
       "18:00    0.0\n",
       "19:00    0.0\n",
       "20:00    1.0\n",
       "21:00    1.0\n",
       "22:00    1.0\n",
       "23:00    1.0\n",
       "Name: 53, dtype: float64"
      ]
     },
     "execution_count": 676,
     "metadata": {},
     "output_type": "execute_result"
    }
   ],
   "source": [
    "occupied.iloc[:,53]"
   ]
  },
  {
   "cell_type": "markdown",
   "metadata": {},
   "source": [
    "#### occupied更新函数"
   ]
  },
  {
   "cell_type": "code",
   "execution_count": 677,
   "metadata": {
    "collapsed": true
   },
   "outputs": [],
   "source": [
    "# 每次循环更新\n",
    "def occupied_update(occupied):\n",
    "    \"\"\" occupied = occupied\"\"\"\n",
    "    pass"
   ]
  },
  {
   "cell_type": "markdown",
   "metadata": {},
   "source": [
    "### 遍历时间并作安排"
   ]
  },
  {
   "cell_type": "code",
   "execution_count": 678,
   "metadata": {
    "collapsed": true
   },
   "outputs": [],
   "source": [
    "# test\n",
    "# key=1 \n",
    "# target_num = appoint['num'][key-1]\n",
    "# diff = room.iloc[forarange[key],:]['num']-target_num # 作差，要筛选出差为正且最小正数\n",
    "# print(target_num)\n",
    "# print(room.iloc[forarange[key],:]['num'],'看索引')\n",
    "# print(diff,'看索引')\n",
    "\n",
    "# diff_index = diff[diff < 0]\n",
    "# diff_index\n",
    "\n",
    "# if diff_index.empty:\n",
    "#     closest_index = None # 表示没有满足条件的房间\n",
    "# else:\n",
    "#     closest_index = diff_index.idxmin() # 给出满足条件的房间的索引\n",
    "# closest_index =  diff.idxmax()\n",
    "# closest_index"
   ]
  },
  {
   "cell_type": "code",
   "execution_count": 679,
   "metadata": {},
   "outputs": [
    {
     "data": {
      "text/plain": [
       "2"
      ]
     },
     "execution_count": 679,
     "metadata": {},
     "output_type": "execute_result"
    }
   ],
   "source": [
    "a.iloc[0] # 按照一般顺序索引\n",
    "a.loc[1] # 按照索引名称索引"
   ]
  },
  {
   "cell_type": "markdown",
   "metadata": {},
   "source": [
    "### 已知备选房容量足够，进行多房组合"
   ]
  },
  {
   "cell_type": "code",
   "execution_count": 680,
   "metadata": {
    "collapsed": true
   },
   "outputs": [],
   "source": [
    "def multiroom(room4choice,target_num):\n",
    "    \"\"\"\n",
    "    forchoice_index = room4choice:备选房索引\n",
    "    target_num=target_num:预约容量\n",
    "    目标:占用房间总容量在满足要求的情况下最小\n",
    "    \"\"\"\n",
    "    room_sorted = room.iloc[room4choice,:]['num'].sort_values(ascending=False).copy()\n",
    "    \n",
    "    for _ in range(len(room_sorted)):\n",
    "        if room_sorted.sum()-room_sorted.iloc[_]>=target_num:\n",
    "            room_sorted.iloc[_]=0\n",
    "    closest_index = np.array(room_sorted[room_sorted!=0].index)\n",
    "    return closest_index"
   ]
  },
  {
   "cell_type": "markdown",
   "metadata": {},
   "source": [
    "### 实时更新房间分配状态"
   ]
  },
  {
   "cell_type": "code",
   "execution_count": 681,
   "metadata": {
    "collapsed": true
   },
   "outputs": [],
   "source": [
    "def state_immediate_update(finaldic_now,key):\n",
    "    global room,occupied\n",
    "#     print(key,\"here\")\n",
    "    if finaldic_now.get(key,None) is None: # 如果状态没更新更新\n",
    "        pass\n",
    "    else:\n",
    "        room['flag'][finaldic_now.get(key,-1)] = 1  # room 在该时间点的状态\n",
    "        # 确定持续时间\n",
    "#         print('hello',finaldic.get(key,-1)[0])\n",
    "        start_ = int(appoint['time'][key-1][:2])\n",
    "        end_ = int(appoint['time'][key-1][-5:-3])\n",
    "        # occupied 置1操作\n",
    "##         print('occupied更新情况————>')\n",
    "##         print(start_,end_)\n",
    "        occupied.iloc[start_:end_+1,finaldic_now.get(key,-1)] = 1\n",
    "##         print(occupied.iloc[:,finaldic_now.get(key,-1)])"
   ]
  },
  {
   "cell_type": "markdown",
   "metadata": {},
   "source": [
    "### 更新room在下一个时间点的状态"
   ]
  },
  {
   "cell_type": "code",
   "execution_count": 682,
   "metadata": {
    "collapsed": true
   },
   "outputs": [],
   "source": [
    "def room_update(key_2arange):\n",
    "    \"\"\"\n",
    "    key_2arange=forarange_now.keys()\n",
    "    \"\"\"\n",
    "    global room\n",
    "#     print('key_2arange')\n",
    "#     print(key_2arange)\n",
    "#     print(np.array(key_2arange)-len(key_2arange)*[1])\n",
    "    row = np.array(list(key_2arange))-np.array(len(key_2arange)*[1])\n",
    "    nextime = appoint['time'][row].apply(lambda x: int(x[:2])+1)\n",
    "    nextime = nextime.iloc[0]\n",
    "    if nextime==24:\n",
    "        pass # 最后一次不更新\n",
    "    else:\n",
    "        room['flag'] = occupied.iloc[nextime,:]"
   ]
  },
  {
   "cell_type": "code",
   "execution_count": 683,
   "metadata": {
    "collapsed": true
   },
   "outputs": [],
   "source": [
    "def arange(forarange_now): \n",
    "    \"\"\"\n",
    "    forarange_now=forarange_now: dict,表示每个时间点需要被安排的预约(key,从1开始)及其可能的房间（房间索引，0,1,2,3...）\n",
    "    finaldic=finaldic:所有预约及其被安排的房间\n",
    "    finaldic_now：每个时间点预约及其被安排的房间\n",
    "    Uc = Uc, hang_on=hang_on\n",
    "    此刻时间点i\n",
    "    \"\"\"\n",
    "    # 根据容量筛选房间，如果有合适的房间则选中，并选择其中容量最小的房间；\n",
    "    # 如果容量不足，则检查team_flag\n",
    "    # ##不可拆分则选中容量最大的可选房间并按要求输出\n",
    "    # ##可拆分则两两组合选择\n",
    "    # 这里的算法不是最优，优化算法需要额外设计\n",
    "    # 如果备选方案为空 则输出error！no room for it！\n",
    "    finaldic_now={}\n",
    "    global finaldic,room,Uc,hang_on,occupied\n",
    "    # 备选方案存在\n",
    "\n",
    "    for key in forarange_now.keys(): # 先安排集体活动\n",
    "        # key从1开始(因为表示预约编号，与索引相差1)，其中的备选房间从0开始记\n",
    "            # 对于确定预约对象，所有备选\n",
    "        if appoint['team_flag'][key-1]==1: # 该预约是集体活动\n",
    "            target_num = appoint['num'][key-1] # 预约的目标容量\n",
    "            # 找到大于容量且最接近的行索引\n",
    "            if len(forarange_now[key])!=0: # 存在备选房间\n",
    "                # 从数组forarange_now[key]中删除与数组np.where(room.flag==1)[0]即被占用房间为交集的元素\n",
    "                room4choice = np.setdiff1d(forarange_now[key],np.where(room.flag==1)[0]) # 可选房间除了满足forarange_now，还要动态删去已经被选择的\n",
    "                if len(room4choice)==0:# 表示动态更新后没有备选项了\n",
    "                    hang_on.append(key)\n",
    "                else:\n",
    "                    diff = room.iloc[room4choice,:]['num']-target_num # 作差，要筛选出差为正且最小正数,索引与room一致\n",
    "                    diff_index = diff[diff >= 0]\n",
    "                    if diff_index.empty: # 表示备选项中没有满足条件的房间\n",
    "                        closest_index =  np.array([diff.idxmax()]) # 则选择最大容量房间\n",
    "                        #输出超出容量Ultra-capacity（Uc）=total number of people（tp）- space capacity（sc）\n",
    "                        Uc[key] = -diff.max() # 存储超出容量\n",
    "                    else:\n",
    "                        closest_index = np.array([diff_index.idxmin()]) # 给出满足条件的房间的索引\n",
    "                    finaldic_now[key] = closest_index\n",
    "                    finaldic[key] = closest_index\n",
    "            else:\n",
    "                hang_on.append(key) # 本来就咩有备选项，挂起\n",
    "        else:\n",
    "            pass\n",
    "        # 动态更新room.flag和occupied状态\n",
    "        state_immediate_update(finaldic,key)\n",
    "    ########################################################上面基本写完\n",
    "    for key in forarange_now.keys():  #后安排非集体活动\n",
    "        if appoint['team_flag'][key-1]==0: # 该预约不是集体活动\n",
    "            target_num = appoint['num'][key-1] # 预约的目标容量\n",
    "            # 找到大于容量且最接近的行索引\n",
    "            if len(forarange_now[key])!=0: # 存在备选房间\n",
    "                room4choice = np.setdiff1d(forarange_now[key],np.where(room.flag==1)[0]) # 得到的是索引\n",
    "                if len(room4choice)==0:# 表示动态更新后没有备选项了\n",
    "                    hang_on.append(key)\n",
    "                else:\n",
    "                    diff = room.iloc[room4choice,:]['num']-target_num # 作差，要筛选出差为正且最小正数,索引与room一致\n",
    "                    diff_index = diff[diff > 0]\n",
    "                    if diff_index.empty: # 表示没有满足条件的房间\n",
    "                        # 则考虑多个房间\n",
    "                        if room.iloc[room4choice,:]['num'].sum()>=target_num:\n",
    "                            closest_index = multiroom(room4choice = room4choice,target_num=target_num) # 多房组合\n",
    "                        else: # 备选项全部加起来也达不到所需人数\n",
    "                            hang_on.append(key)\n",
    "                    else: \n",
    "                        closest_index = np.array([diff_index.idxmin()]) # 给出满足条件的房间的索引\n",
    "                    finaldic_now[key] = closest_index\n",
    "                    finaldic[key] = closest_index\n",
    "            else: # 咩有备选项则挂起\n",
    "                hang_on.append(key) \n",
    "        else:\n",
    "            pass\n",
    "        # 动态更新room.flag和occupied状态\n",
    "        state_immediate_update(finaldic_now,key)\n",
    "    # 更新room在下一个时间点的状态\n",
    "    room_update(forarange_now.keys())\n",
    "##     print('备选方案——>最终方案')\n",
    "##     print(finaldic_now)\n",
    "    return finaldic_now"
   ]
  },
  {
   "cell_type": "code",
   "execution_count": 684,
   "metadata": {},
   "outputs": [
    {
     "name": "stderr",
     "output_type": "stream",
     "text": [
      "C:\\ProgramData\\Anaconda3\\envs\\tf_gpu_\\lib\\site-packages\\ipykernel_launcher.py:7: SettingWithCopyWarning: \n",
      "A value is trying to be set on a copy of a slice from a DataFrame\n",
      "\n",
      "See the caveats in the documentation: https://pandas.pydata.org/pandas-docs/stable/user_guide/indexing.html#returning-a-view-versus-a-copy\n",
      "  import sys\n"
     ]
    }
   ],
   "source": [
    "dic4c={} #用于存储备选方案\n",
    "finaldic = {} #用于存储最终选择\n",
    "Uc = {} #用于存储集体事件的超出容量\n",
    "hang_on = [] \n",
    "for i in range(len(appoint_chosen)):\n",
    "##     print('############################%i#########################'%i)\n",
    "    # 每个时间点遍历并安排房间\n",
    "    # 时间点i\n",
    "    forarange,forarange_now= room_match(appoint[appoint_chosen[i]],room,dic4c)\n",
    "##     print('每个时间点的备选安排')\n",
    "##    print(forarange_now)\n",
    "    if len(forarange_now.keys())==0: \n",
    "        pass\n",
    "    else:\n",
    "        finaldic_now= arange(forarange_now=forarange_now)\n",
    "    \n",
    "    "
   ]
  },
  {
   "cell_type": "code",
   "execution_count": 685,
   "metadata": {},
   "outputs": [
    {
     "data": {
      "text/plain": [
       "[51, 53, 54, 55, 56, 58]"
      ]
     },
     "execution_count": 685,
     "metadata": {},
     "output_type": "execute_result"
    }
   ],
   "source": [
    "hang_on"
   ]
  },
  {
   "cell_type": "code",
   "execution_count": 686,
   "metadata": {},
   "outputs": [
    {
     "data": {
      "text/plain": [
       "{1: 7, 6: 17, 4: 20, 3: 32, 9: 19, 12: 17, 13: 16, 15: 36}"
      ]
     },
     "execution_count": 686,
     "metadata": {},
     "output_type": "execute_result"
    }
   ],
   "source": [
    "Uc # 这里是一些集体活动 15号预约有36个多余的人，因为在那个时间点没有更好的选择，算法可以继续优化"
   ]
  },
  {
   "cell_type": "code",
   "execution_count": 688,
   "metadata": {},
   "outputs": [
    {
     "data": {
      "text/plain": [
       "{1: array([53], dtype=int64),\n",
       " 6: array([54], dtype=int64),\n",
       " 22: array([3], dtype=int64),\n",
       " 20: array([0], dtype=int64),\n",
       " 21: array([2], dtype=int64),\n",
       " 23: array([19], dtype=int64),\n",
       " 24: array([74], dtype=int64),\n",
       " 25: array([55], dtype=int64),\n",
       " 26: array([1], dtype=int64),\n",
       " 27: array([56], dtype=int64),\n",
       " 28: array([42], dtype=int64),\n",
       " 42: array([70], dtype=int64),\n",
       " 43: array([76], dtype=int64),\n",
       " 44: array([71], dtype=int64),\n",
       " 45: array([78], dtype=int64),\n",
       " 47: array([89], dtype=int64),\n",
       " 48: array([63], dtype=int64),\n",
       " 2: array([7], dtype=int64),\n",
       " 4: array([8], dtype=int64),\n",
       " 5: array([9], dtype=int64),\n",
       " 7: array([12], dtype=int64),\n",
       " 19: array([5], dtype=int64),\n",
       " 29: array([72], dtype=int64),\n",
       " 30: array([73], dtype=int64),\n",
       " 31: array([4], dtype=int64),\n",
       " 49: array([81], dtype=int64),\n",
       " 3: array([14], dtype=int64),\n",
       " 32: array([82], dtype=int64),\n",
       " 50: array([80], dtype=int64),\n",
       " 8: array([10], dtype=int64),\n",
       " 33: array([64], dtype=int64),\n",
       " 9: array([53], dtype=int64),\n",
       " 11: array([11], dtype=int64),\n",
       " 17: array([15], dtype=int64),\n",
       " 34: array([65], dtype=int64),\n",
       " 35: array([55], dtype=int64),\n",
       " 36: array([56], dtype=int64),\n",
       " 10: array([7], dtype=int64),\n",
       " 18: array([9], dtype=int64),\n",
       " 37: array([63], dtype=int64),\n",
       " 38: array([64], dtype=int64),\n",
       " 52: array([80], dtype=int64),\n",
       " 12: array([54], dtype=int64),\n",
       " 39: array([66], dtype=int64),\n",
       " 40: array([0], dtype=int64),\n",
       " 13: array([53], dtype=int64),\n",
       " 14: array([8], dtype=int64),\n",
       " 15: array([12], dtype=int64),\n",
       " 16: array([13], dtype=int64),\n",
       " 41: array([1], dtype=int64),\n",
       " 46: array([2], dtype=int64),\n",
       " 57: array([80], dtype=int64)}"
      ]
     },
     "execution_count": 688,
     "metadata": {},
     "output_type": "execute_result"
    }
   ],
   "source": [
    "finaldic"
   ]
  },
  {
   "cell_type": "code",
   "execution_count": 691,
   "metadata": {
    "collapsed": true
   },
   "outputs": [],
   "source": [
    "# occupied 关闭时间置零\n",
    "def occupied_closed(occupied):\n",
    "    \"\"\"occupied=occupied\"\"\"\n",
    "    # 根据可用时间置一\n",
    "    for i in range(len(occupied.columns)):\n",
    "        startindex = int(room['time'][i][:2])\n",
    "        endindex = int(room['time'][i][-5:-3])\n",
    "#         print(startindex,endindex+1)\n",
    "        occupied.iloc[:startindex,i] = 0 # 表示处于可用状态\n",
    "        occupied.iloc[endindex+1:,i] = 0 # 表示处于可用状态\n",
    "    return occupied"
   ]
  },
  {
   "cell_type": "code",
   "execution_count": 692,
   "metadata": {
    "collapsed": true
   },
   "outputs": [],
   "source": [
    "occupied = occupied_closed(occupied)"
   ]
  },
  {
   "cell_type": "code",
   "execution_count": 693,
   "metadata": {
    "collapsed": true
   },
   "outputs": [],
   "source": [
    "# occupied"
   ]
  },
  {
   "cell_type": "markdown",
   "metadata": {},
   "source": [
    "### 绘制房间的时间占用情况"
   ]
  },
  {
   "cell_type": "code",
   "execution_count": 694,
   "metadata": {},
   "outputs": [
    {
     "data": {
      "image/png": "[encoded data removed]",
      "text/plain": [
       "<Figure size 1440x1440 with 1 Axes>"
      ]
     },
     "metadata": {
      "needs_background": "light"
     },
     "output_type": "display_data"
    }
   ],
   "source": [
    "import matplotlib.pyplot as plt\n",
    "# 创建图形和坐标轴对象\n",
    "fig, ax = plt.subplots(figsize=(20,20))\n",
    "\n",
    "# 绘制线段\n",
    "for room_ in occupied.columns[:]:\n",
    "#     print(room_)\n",
    "    x = []\n",
    "    y = []\n",
    "    for hour_ in range(len(occupied.index)):\n",
    "#         print(hour_)\n",
    "        if occupied[room_][hour_] == 1:\n",
    "            # 如果房间被占用，记录时间点\n",
    "            x.append(hour_)\n",
    "            y.append(room_)\n",
    "        elif len(x) > 0:\n",
    "            # 如果房间未被占用且之前有记录的时间点，则绘制线段\n",
    "            \n",
    "            x.append(hour_)\n",
    "            y.append(room_)\n",
    "            ax.plot(x, y, color='black', linewidth=5)\n",
    "            x = []\n",
    "            y = []\n",
    "\n",
    "# 设置坐标轴标签和范围\n",
    "ax.set_xticks(range(24))\n",
    "# ax.set_yticks(['A', 'B', 'C'])\n",
    "ax.set_xlabel('Hour')\n",
    "ax.set_ylabel('Room')\n",
    "# ax.set_xlim(0, 20)\n",
    "# ax.set_ylim(['A', 'C'])\n",
    "\n",
    "# 显示图形\n",
    "plt.show()\n",
    "\n",
    "\n"
   ]
  },
  {
   "cell_type": "code",
   "execution_count": null,
   "metadata": {
    "collapsed": true
   },
   "outputs": [],
   "source": []
  },
  {
   "cell_type": "code",
   "execution_count": null,
   "metadata": {
    "collapsed": true
   },
   "outputs": [],
   "source": []
  }
 ],
 "metadata": {
  "kernelspec": {
   "display_name": "tf_gpu_",
   "language": "python",
   "name": "tf_gpu_"
  },
  "language_info": {
   "codemirror_mode": {
    "name": "ipython",
    "version": 3
   },
   "file_extension": ".py",
   "mimetype": "text/x-python",
   "name": "python",
   "nbconvert_exporter": "python",
   "pygments_lexer": "ipython3",
   "version": "3.7.1"
  }
 },
 "nbformat": 4,
 "nbformat_minor": 2
}
